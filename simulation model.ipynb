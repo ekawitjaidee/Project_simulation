{
 "cells": [
  {
   "cell_type": "code",
   "execution_count": 1,
   "metadata": {},
   "outputs": [],
   "source": [
    "from keras.models import Sequential, load_model\n",
    "import pandas as pd\n",
    "import numpy as np\n",
    "import glob\n",
    "import pandas as pd\n",
    "import numpy as np\n",
    "import matplotlib.pyplot as plt\n",
    "import pandas_datareader.data as web\n",
    "import random\n",
    "import datetime\n",
    "\n",
    "from Indicator import Indicator\n",
    "\n",
    "def check_trend(df):\n",
    "    df.loc[(df['Close'] > df['MA']) &\n",
    "    ((df['Close'] > df['Close'].shift(1)) | (df['MA'] > df['MA'].shift(1))) &\n",
    "    ((df['Close'] > df['Close'].shift(2)) | (df['MA'] > df['MA'].shift(2))) &\n",
    "    ((df['Close'] > df['Close'].shift(3)) | (df['MA'] > df['MA'].shift(3))) &\n",
    "    ((df['Close'] > df['Close'].shift(4)) | (df['MA'] > df['MA'].shift(4))) &\n",
    "    ((df['Close'] > df['Close'].shift(5)) | (df['MA'] > df['MA'].shift(5))) , 'Trend'] = 'Up'\n",
    "\n",
    "    df.loc[(df['Close'] < df['MA']) &\n",
    "    ((df['Close'] < df['Close'].shift(1)) | (df['MA'] < df['MA'].shift(1))) &\n",
    "    ((df['Close'] < df['Close'].shift(2)) | (df['MA'] < df['MA'].shift(2))) &\n",
    "    ((df['Close'] < df['Close'].shift(3)) | (df['MA'] < df['MA'].shift(3))) &\n",
    "    ((df['Close'] < df['Close'].shift(4)) | (df['MA'] < df['MA'].shift(4))) &\n",
    "    ((df['Close'] < df['Close'].shift(5)) | (df['MA'] < df['MA'].shift(5))) , 'Trend'] = 'Down'\n",
    "    \n",
    "    df.loc[df['Trend'].isnull(), 'Ntrend'] = df['Trend'].shift(1)\n",
    "    df.loc[df['Trend'].isnull() & df['Trend'].shift(1).isnull(),'Ntrend'] = df['Trend'].shift(2)\n",
    "    df.loc[df['Trend'].isnull() & df['Trend'].shift(1).isnull() & df['Trend'].shift(2).isnull(),'Ntrend'] = df['Trend'].shift(3)\n",
    "    df.loc[df['Trend'].isnull() & df['Trend'].shift(1).isnull() & df['Trend'].shift(2).isnull() & \n",
    "    df['Trend'].shift(3).isnull(),'Ntrend'] = df['Trend'].shift(4)\n",
    "    df.loc[df['Trend'].isnull() & df['Trend'].shift(1).isnull() & df['Trend'].shift(2).isnull() & \n",
    "    df['Trend'].shift(3).isnull() & df['Trend'].shift(4).isnull(),'Ntrend'] = df['Trend'].shift(5)\n",
    "    df.loc[df['Trend'].isnull() & df['Trend'].shift(1).isnull() & df['Trend'].shift(2).isnull() & \n",
    "    df['Trend'].shift(3).isnull() & df['Trend'].shift(4).isnull() & df['Trend'].shift(5).isnull(),'Ntrend'] = df['Trend'].shift(6)\n",
    "    \n",
    "    df['S1'] = df['Close'].shift(-1)\n",
    "    df['S2'] = df['Close'].shift(-2)\n",
    "    df.loc[df['S1'].isnull(),'S1'] = 0\n",
    "    df.loc[df['S2'].isnull(),'S2'] = 0\n",
    "\n",
    "   \n",
    "    #Trading Signal (0,1)\n",
    "    df.loc[(df['Trend'] == 'Up') | (df['Ntrend'] == 'Up'), 'Trading Signal'] = ((abs(df['Close'] - df[['Close','S1','S2']].min(axis = 1)) / \n",
    "    abs(df[['Close','S1','S2']].max(axis = 1) - df[['Close','S1','S2']].min(axis = 1)))*0.5) + 0.5\n",
    "    df.loc[(df['Trend'] == 'Down') | (df['Ntrend'] == 'Down'), 'Trading Signal'] = ((abs(df['Close'] - df[['Close','S1','S2']].min(axis = 1)) / \n",
    "    abs(df[['Close','S1','S2']].max(axis = 1) - df[['Close','S1','S2']].min(axis = 1)))*0.5)\n",
    "   \n",
    "    df.loc[df['Trend'].isnull(),'Trend'] =df['Ntrend']\n",
    "    \n",
    "    df = df.drop(['Ntrend','S1','S2'],axis=1)\n",
    "        \n",
    "    return df\n",
    "\n",
    "def fillindicator(df):\n",
    "    indicator = Indicator()\n",
    "    train_set = indicator.MA(df,15)\n",
    "    train_set = indicator.MACD(df)\n",
    "    train_set = indicator.STOCHASTIC(df)\n",
    "    train_set = indicator.RSI(df)\n",
    "    train_set = indicator.WILLIAMSR(df)\n",
    "    return train_set\n",
    "\n",
    "def norm(df,col_name):# this will get columnname + _n\n",
    "    #Normalize data each colunm in to range -1 to 1\n",
    "    df[col_name+'_n'] = (df[col_name]-df[col_name].min())/(df[col_name].max()-df[col_name].min())\n",
    "    return df\n",
    "\n",
    "def signal_to_num(df):\n",
    "    df.loc[df['Trend']=='Down','Trend'] = 0\n",
    "    df.loc[df['Trend']=='Up','Trend'] = 1\n",
    "    return df"
   ]
  },
  {
   "cell_type": "code",
   "execution_count": 2,
   "metadata": {},
   "outputs": [],
   "source": [
    "start = datetime.datetime(2019,10,1)#26 day before start year for make indicator\n",
    "end = datetime.datetime(2021,1,1)\n",
    "stock = 'KTC.bk'\n",
    "df = web.DataReader(stock,'yahoo',start,end)\n",
    "df = fillindicator(df)\n",
    "df = norm(df,'MA')\n",
    "df = norm(df,'MACD')\n",
    "df = norm(df,'SIGNAL LINE')\n",
    "df = norm(df,'%K')\n",
    "df = norm(df,'%D')\n",
    "df = norm(df,'%R')\n",
    "df = norm(df,'RSI-7')\n",
    "df = norm(df,'RSI-14')\n",
    "df = check_trend(df)\n",
    "df = df.iloc[61:]\n",
    "df = signal_to_num(df)"
   ]
  },
  {
   "cell_type": "code",
   "execution_count": 3,
   "metadata": {},
   "outputs": [],
   "source": [
    "model = load_model('Model/best_5.h5')"
   ]
  },
  {
   "cell_type": "code",
   "execution_count": 4,
   "metadata": {},
   "outputs": [],
   "source": [
    "test_x = df[['MA_n','MACD_n','SIGNAL LINE_n','RSI-7_n','%K_n','%D_n','%R_n','Trading Signal','Trend']]\n",
    "x_test = test_x[['MA_n','MACD_n','SIGNAL LINE_n','RSI-7_n','%K_n','%D_n','%R_n','Trading Signal']].values\n",
    "y_test = test_x['Trend'].values\n",
    "x_test=np.asarray(x_test).astype(np.float32)\n",
    "y_test=np.asarray(y_test).astype(np.float32)"
   ]
  },
  {
   "cell_type": "code",
   "execution_count": 5,
   "metadata": {},
   "outputs": [],
   "source": [
    "pred = model.predict(x_test)"
   ]
  },
  {
   "cell_type": "code",
   "execution_count": 6,
   "metadata": {},
   "outputs": [],
   "source": [
    "data = df\n",
    "data['pred'] = pred\n",
    "mean = data['pred'].mean()\n",
    "data['pred'] =np.where(data['pred'] >= mean,'up','down')\n",
    "\n",
    "data['up'] = np.where(data['pred']=='up',data['Close'],None)\n",
    "data['down'] = np.where(data['pred']=='down',data['Close'],None)"
   ]
  },
  {
   "cell_type": "code",
   "execution_count": 7,
   "metadata": {},
   "outputs": [
    {
     "data": {
      "text/plain": [
       "[<matplotlib.lines.Line2D at 0x2e56e0b8ec8>,\n",
       " <matplotlib.lines.Line2D at 0x2e56e160508>]"
      ]
     },
     "execution_count": 7,
     "metadata": {},
     "output_type": "execute_result"
    },
    {
     "data": {
      "image/png": "[encoded data removed]",
      "text/plain": [
       "<Figure size 432x288 with 1 Axes>"
      ]
     },
     "metadata": {
      "needs_background": "light"
     },
     "output_type": "display_data"
    }
   ],
   "source": [
    "plt.plot(data[['Close','down']])"
   ]
  },
  {
   "cell_type": "code",
   "execution_count": 8,
   "metadata": {},
   "outputs": [],
   "source": [
    "b = []\n",
    "s = []\n",
    "flag = 'sell'\n",
    "for i,r in data.iterrows():\n",
    "    if (flag=='sell') & (r['pred']=='up'):\n",
    "        b.append(r['Close'])\n",
    "        flag = 'buy'\n",
    "    elif (flag=='buy') & (r['pred']=='down'):\n",
    "        s.append(r['Close'])\n",
    "        flag = 'sell'"
   ]
  },
  {
   "cell_type": "code",
   "execution_count": 9,
   "metadata": {},
   "outputs": [],
   "source": [
    "if len(b)>len(s):\n",
    "    del b[-1]"
   ]
  },
  {
   "cell_type": "code",
   "execution_count": 10,
   "metadata": {},
   "outputs": [
    {
     "data": {
      "text/plain": [
       "28.0"
      ]
     },
     "execution_count": 10,
     "metadata": {},
     "output_type": "execute_result"
    }
   ],
   "source": [
    "sum(np.array(s)-np.array(b))"
   ]
  },
  {
   "cell_type": "code",
   "execution_count": 11,
   "metadata": {},
   "outputs": [
    {
     "name": "stdout",
     "output_type": "stream",
     "text": [
      "36.25 38.75\n",
      "27.5 31.25\n",
      "32.75 32.5\n",
      "33.75 37.0\n",
      "38.0 37.5\n",
      "31.25 30.75\n",
      "31.75 30.25\n",
      "30.5 30.25\n",
      "31.0 31.0\n",
      "31.0 30.25\n",
      "31.0 34.0\n",
      "34.0 37.75\n",
      "37.75 38.75\n",
      "38.75 44.5\n",
      "44.5 53.25\n"
     ]
    }
   ],
   "source": [
    "for i in range(len(b)):\n",
    "    print(b[i],s[i])"
   ]
  },
  {
   "cell_type": "code",
   "execution_count": null,
   "metadata": {},
   "outputs": [],
   "source": []
  }
 ],
 "metadata": {
  "kernelspec": {
   "display_name": "Python 3",
   "language": "python",
   "name": "python3"
  },
  "language_info": {
   "codemirror_mode": {
    "name": "ipython",
    "version": 3
   },
   "file_extension": ".py",
   "mimetype": "text/x-python",
   "name": "python",
   "nbconvert_exporter": "python",
   "pygments_lexer": "ipython3",
   "version": "3.7.6"
  }
 },
 "nbformat": 4,
 "nbformat_minor": 4
}
