{
 "cells": [
  {
   "cell_type": "code",
   "execution_count": 1,
   "metadata": {},
   "outputs": [],
   "source": [
    "from keras.models import Sequential, load_model\n",
    "import pandas as pd\n",
    "import numpy as np\n",
    "import glob\n",
    "import pandas as pd\n",
    "import numpy as np\n",
    "import matplotlib.pyplot as plt\n",
    "import pandas_datareader.data as web\n",
    "import random\n",
    "import datetime\n",
    "\n",
    "from Indicator import Indicator"
   ]
  },
  {
   "cell_type": "code",
   "execution_count": 2,
   "metadata": {},
   "outputs": [],
   "source": [
    "def fillindicator(df):\n",
    "    indicator = Indicator()\n",
    "    train_set = indicator.MACD(df,12,26,9,1)#MACD 1\n",
    "    train_set = indicator.MACD(df,40,60,34,2)#MACD 2\n",
    "    train_set = indicator.DMI(df,14)\n",
    "    train_set = indicator.STOCHRSI(df)\n",
    "    train_set = indicator.AO(df)\n",
    "    train_set = indicator.WILLIANSR(df)\n",
    "    train_set = indicator.RSI(df)\n",
    "    train_set = indicator.MA(df,26)\n",
    "    train_set['MA-26'] = train_set['MA']\n",
    "    train_set = indicator.MA(df,15)\n",
    "    train_set = indicator.check_trend(df)\n",
    "    return train_set\n",
    "\n",
    "def shiftdata(df,col_name,sft):\n",
    "    for i in range(sft):\n",
    "        i+=1\n",
    "        shiftname = col_name+'-'+str(i)\n",
    "        df[shiftname] = df[col_name].shift(i)\n",
    "\n",
    "    return df\n",
    "\n",
    "def norm(df,col_name):# this will get columnname + _n\n",
    "    #Normalize data each colunm in to range -1 to 1\n",
    "    df[col_name+'_n'] = 2*(df[col_name]-df[col_name].min())/(df[col_name].max()-df[col_name].min())-1    \n",
    "    return df\n",
    "\n",
    "def signal_to_catagorical(data):\n",
    "    data.loc[data['Signal'] == 'wait ot hold', 'Signal'] = 'wait or hold'\n",
    "    data.loc[data['Signal'] == 'buy', 'Signal'] = 0\n",
    "    data.loc[data['Signal'] == 'sell', 'Signal'] = 1 \n",
    "    data.loc[data['Signal'] == 'wait or hold', 'Signal'] = 2 \n",
    "    return data\n",
    "\n",
    "def add_shift_day(data,day):\n",
    "    r_list = []\n",
    "    for i in range(day,len(data)):#Number mean day to shift\n",
    "        r_list.append(data[i-day : i])\n",
    "    return np.array(r_list)"
   ]
  },
  {
   "cell_type": "code",
   "execution_count": 9,
   "metadata": {},
   "outputs": [
    {
     "name": "stdout",
     "output_type": "stream",
     "text": [
      "have stock =  6\n"
     ]
    },
    {
     "data": {
      "text/plain": [
       "['Model\\\\model_lstm3_1_19.h5',\n",
       " 'Model\\\\model_lstm3_1_20.h5',\n",
       " 'Model\\\\model_lstm_data20_2.h5',\n",
       " 'Model\\\\model_lstm_data5_1000ep.h5',\n",
       " 'Model\\\\model_lstm_data5_2000ep.h5',\n",
       " 'Model\\\\model_lstm_data5_500ep.h5']"
      ]
     },
     "execution_count": 9,
     "metadata": {},
     "output_type": "execute_result"
    }
   ],
   "source": [
    "start = datetime.datetime(2018,10,1)#26 day before start year for make indicator\n",
    "end = datetime.datetime(2020,1,1)\n",
    "\n",
    "money = 100000\n",
    "stocklist = ['AES','EBAY','VRTX','GOOGL','IP','CSCO','UAL','NVR','TPR','BA']\n",
    "\n",
    "modellist = [f for f in glob.glob(\"Model/*.h5\")]\n",
    "print('have stock = ',len(modellist))\n",
    "modellist"
   ]
  },
  {
   "cell_type": "code",
   "execution_count": 12,
   "metadata": {},
   "outputs": [
    {
     "name": "stderr",
     "output_type": "stream",
     "text": [
      "C:\\Users\\jame_\\anaconda3\\lib\\site-packages\\ipykernel_launcher.py:53: SettingWithCopyWarning: \n",
      "A value is trying to be set on a copy of a slice from a DataFrame.\n",
      "Try using .loc[row_indexer,col_indexer] = value instead\n",
      "\n",
      "See the caveats in the documentation: https://pandas.pydata.org/pandas-docs/stable/user_guide/indexing.html#returning-a-view-versus-a-copy\n",
      "C:\\Users\\jame_\\anaconda3\\lib\\site-packages\\ipykernel_launcher.py:54: SettingWithCopyWarning: \n",
      "A value is trying to be set on a copy of a slice from a DataFrame.\n",
      "Try using .loc[row_indexer,col_indexer] = value instead\n",
      "\n",
      "See the caveats in the documentation: https://pandas.pydata.org/pandas-docs/stable/user_guide/indexing.html#returning-a-view-versus-a-copy\n",
      "C:\\Users\\jame_\\anaconda3\\lib\\site-packages\\ipykernel_launcher.py:55: SettingWithCopyWarning: \n",
      "A value is trying to be set on a copy of a slice from a DataFrame.\n",
      "Try using .loc[row_indexer,col_indexer] = value instead\n",
      "\n",
      "See the caveats in the documentation: https://pandas.pydata.org/pandas-docs/stable/user_guide/indexing.html#returning-a-view-versus-a-copy\n"
     ]
    }
   ],
   "source": [
    "#Project model\n",
    "modelstat = []\n",
    "for md in modellist:\n",
    "    PJmodel = []\n",
    "    model = load_model(md)\n",
    "    for stock in stocklist:\n",
    "        df = web.DataReader(stock,'yahoo',start,end)\n",
    "        df = fillindicator(df)\n",
    "    #     df['AO-signal'] = np.where(df['AO'] > df['AO'].shift(1),1,0)\n",
    "        df.loc[df['Trend'] == 'Down', 'Trend'] = 0.1\n",
    "        df.loc[df['Trend'] == 'Up', 'Trend'] = 0.9 \n",
    "\n",
    "        #Delta\n",
    "        df['MACD-SL-1'] = df['MACD-1'] - df['SIGNAL LINE1']\n",
    "        df['MACD-SL-2'] = df['MACD-2'] - df['SIGNAL LINE2']\n",
    "        df['DMI'] = df['plusDI'] - df['minusDI']\n",
    "        df['STOCHRSI'] = df['%K'] - df['%D']\n",
    "        df['MA-trend'] = df['MA-26'] - df['Close']\n",
    "\n",
    "        #MACD\n",
    "        df = norm(df,'MACD-SL-1')\n",
    "        df = norm(df,'MACD-SL-2')\n",
    "        df = norm(df,'MACD-1')\n",
    "        df = norm(df,'MACD-2')\n",
    "        df = norm(df,'SIGNAL LINE1')\n",
    "        df = norm(df,'SIGNAL LINE2')\n",
    "\n",
    "        #DMI\n",
    "        df = norm(df,'plusDI')\n",
    "        df = norm(df,'minusDI')\n",
    "        df = norm(df,'DMI')\n",
    "\n",
    "        #StochasticRSI\n",
    "        df = norm(df,'%K')\n",
    "        df = norm(df,'%D')\n",
    "        df = norm(df,'STOCHRSI')\n",
    "\n",
    "        #Other\n",
    "        df = norm(df,'Close')\n",
    "        df = norm(df,'%R')\n",
    "        df = norm(df,'RSI')\n",
    "        df = norm(df,'AO')\n",
    "        df = norm(df,'MA-trend')\n",
    "\n",
    "        df = df[63:]\n",
    "        p_test = df\n",
    "        x_test = p_test[['MACD-SL-1_n','DMI_n','MACD-SL-2_n','Close_n','AO_n','RSI_n','MA-trend']].values\n",
    "        x_test = add_shift_day(x_test,30)\n",
    "        y_pred = model.predict(x_test)\n",
    "        y_pred = np.argmax(y_pred,axis = -1)\n",
    "        p_test = p_test.iloc[30:]\n",
    "\n",
    "        p_test['pred'] = y_pred\n",
    "        p_test['pred_b'] = np.where(p_test['pred'] == 0,p_test['Close'],np.nan)\n",
    "        p_test['pred_s'] = np.where(p_test['pred'] == 1,p_test['Close'],np.nan)\n",
    "        b = []\n",
    "        s = []\n",
    "        flag = 'sell'\n",
    "        for i,r in p_test.iterrows():\n",
    "            if (flag=='sell') & (r['pred']==0):\n",
    "                b.append(r['Close'])\n",
    "                flag = 'buy'\n",
    "            elif (flag=='buy') & (r['pred']==1):\n",
    "                s.append(r['Close'])\n",
    "                flag = 'sell'\n",
    "        if len(b)>len(s):\n",
    "            del b[-1]\n",
    "        modelbuy = len(b)\n",
    "        modelsell = len(s)\n",
    "        pfmodel = []\n",
    "        profitmodel = []\n",
    "        for i in range(len(b)):\n",
    "            pfmodel.append(((s[i]-b[i])/(b[i]))*money)\n",
    "            profitmodel.append(((s[i]-b[i])/(b[i])))\n",
    "        if modelbuy >0:\n",
    "            PJmodel.append([stock,modelbuy,sum(pfmodel)])    \n",
    "        else:\n",
    "            PJmodel.append([stock,0,0,0])    \n",
    "    modelstat.append([md,PJmodel])"
   ]
  },
  {
   "cell_type": "code",
   "execution_count": 28,
   "metadata": {},
   "outputs": [
    {
     "name": "stdout",
     "output_type": "stream",
     "text": [
      "['Model\\\\model_lstm3_1_19.h5', [['AES', 1, 12401.570984471002], ['EBAY', 0, 0, 0], ['VRTX', 0, 0, 0], ['GOOGL', 0, 0, 0], ['IP', 1, -1217.5483440375044], ['CSCO', 0, 0, 0], ['UAL', 0, 0, 0], ['NVR', 0, 0, 0], ['TPR', 1, 3197.280769572365], ['BA', 1, 7884.34966292042]]]\n",
      "['Model\\\\model_lstm3_1_20.h5', [['AES', 0, 0, 0], ['EBAY', 0, 0, 0], ['VRTX', 1, 5914.426431206344], ['GOOGL', 1, 6679.975194280446], ['IP', 1, 6371.979724789273], ['CSCO', 1, 6197.559277480024], ['UAL', 2, 25090.476260265554], ['NVR', 0, 0, 0], ['TPR', 0, 0, 0], ['BA', 1, 4116.8803963432565]]]\n"
     ]
    }
   ],
   "source": [
    "for i in range(len(modelstat[0])):\n",
    "    print(modelstat[i])"
   ]
  },
  {
   "cell_type": "code",
   "execution_count": 29,
   "metadata": {},
   "outputs": [
    {
     "data": {
      "text/plain": [
       "[['Model\\\\model_lstm3_1_19.h5',\n",
       "  [['AES', 1, 12401.570984471002],\n",
       "   ['EBAY', 0, 0, 0],\n",
       "   ['VRTX', 0, 0, 0],\n",
       "   ['GOOGL', 0, 0, 0],\n",
       "   ['IP', 1, -1217.5483440375044],\n",
       "   ['CSCO', 0, 0, 0],\n",
       "   ['UAL', 0, 0, 0],\n",
       "   ['NVR', 0, 0, 0],\n",
       "   ['TPR', 1, 3197.280769572365],\n",
       "   ['BA', 1, 7884.34966292042]]],\n",
       " ['Model\\\\model_lstm3_1_20.h5',\n",
       "  [['AES', 0, 0, 0],\n",
       "   ['EBAY', 0, 0, 0],\n",
       "   ['VRTX', 1, 5914.426431206344],\n",
       "   ['GOOGL', 1, 6679.975194280446],\n",
       "   ['IP', 1, 6371.979724789273],\n",
       "   ['CSCO', 1, 6197.559277480024],\n",
       "   ['UAL', 2, 25090.476260265554],\n",
       "   ['NVR', 0, 0, 0],\n",
       "   ['TPR', 0, 0, 0],\n",
       "   ['BA', 1, 4116.8803963432565]]],\n",
       " ['Model\\\\model_lstm_data20_2.h5',\n",
       "  [['AES', 0, 0, 0],\n",
       "   ['EBAY', 0, 0, 0],\n",
       "   ['VRTX', 1, 32323.83685529851],\n",
       "   ['GOOGL', 1, 8840.70304628276],\n",
       "   ['IP', 1, -3713.8325148841855],\n",
       "   ['CSCO', 0, 0, 0],\n",
       "   ['UAL', 1, 13089.068881008665],\n",
       "   ['NVR', 0, 0, 0],\n",
       "   ['TPR', 0, 0, 0],\n",
       "   ['BA', 1, 4724.742078614982]]],\n",
       " ['Model\\\\model_lstm_data5_1000ep.h5',\n",
       "  [['AES', 5, -7782.652591112659],\n",
       "   ['EBAY', 4, 4117.493689466952],\n",
       "   ['VRTX', 1, -564.525236223094],\n",
       "   ['GOOGL', 2, 1663.2588404793573],\n",
       "   ['IP', 3, 14651.785270084809],\n",
       "   ['CSCO', 6, 7454.675725492557],\n",
       "   ['UAL', 4, -1145.685915355554],\n",
       "   ['NVR', 1, 10519.24626177609],\n",
       "   ['TPR', 10, -9085.551632228513],\n",
       "   ['BA', 3, 15144.246511526468]]],\n",
       " ['Model\\\\model_lstm_data5_2000ep.h5',\n",
       "  [['AES', 1, 6912.443842927137],\n",
       "   ['EBAY', 5, 8454.121273446595],\n",
       "   ['VRTX', 2, 3658.1125675942794],\n",
       "   ['GOOGL', 2, 18523.72336858663],\n",
       "   ['IP', 3, 13006.021167015348],\n",
       "   ['CSCO', 6, -1744.689436260275],\n",
       "   ['UAL', 4, -3707.149212521047],\n",
       "   ['NVR', 3, 19510.121984618076],\n",
       "   ['TPR', 9, -13021.821709935964],\n",
       "   ['BA', 3, 1640.3248718560117]]],\n",
       " ['Model\\\\model_lstm_data5_500ep.h5',\n",
       "  [['AES', 6, -497.9235566779497],\n",
       "   ['EBAY', 6, 11567.828021649677],\n",
       "   ['VRTX', 2, 4557.072991686213],\n",
       "   ['GOOGL', 3, -1668.3877595099798],\n",
       "   ['IP', 4, 13206.506203800189],\n",
       "   ['CSCO', 5, -809.9395985420081],\n",
       "   ['UAL', 3, 16832.02067468836],\n",
       "   ['NVR', 7, 15721.651119218823],\n",
       "   ['TPR', 6, 17702.16441969023],\n",
       "   ['BA', 4, 14715.870411719625]]]]"
      ]
     },
     "execution_count": 29,
     "metadata": {},
     "output_type": "execute_result"
    }
   ],
   "source": [
    "modelstat"
   ]
  },
  {
   "cell_type": "code",
   "execution_count": null,
   "metadata": {},
   "outputs": [],
   "source": []
  }
 ],
 "metadata": {
  "kernelspec": {
   "display_name": "Python 3",
   "language": "python",
   "name": "python3"
  },
  "language_info": {
   "codemirror_mode": {
    "name": "ipython",
    "version": 3
   },
   "file_extension": ".py",
   "mimetype": "text/x-python",
   "name": "python",
   "nbconvert_exporter": "python",
   "pygments_lexer": "ipython3",
   "version": "3.7.6"
  }
 },
 "nbformat": 4,
 "nbformat_minor": 4
}
